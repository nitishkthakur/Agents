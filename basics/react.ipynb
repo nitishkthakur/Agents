{
 "cells": [
  {
   "cell_type": "code",
   "execution_count": 17,
   "id": "a6069412",
   "metadata": {},
   "outputs": [],
   "source": [
    "import langgraph\n",
    "import langchain\n",
    "from langgraph.graph import StateGraph, END\n",
    "from typing import TypedDict, List, Optional\n",
    "import json\n",
    "from tavily import TavilyClient\n",
    "from langchain_ollama import ChatOllama\n",
    "from dotenv import load_dotenv\n",
    "load_dotenv()\n",
    "import os\n",
    "\n",
    "tavily_key = os.environ.get(\"TAVILY_API_KEY\")\n",
    "if not tavily_key:\n",
    "    raise ValueError(\"TAVILY_API_KEY environment variable is not set.\")\n"
   ]
  },
  {
   "cell_type": "code",
   "execution_count": 12,
   "id": "56472552",
   "metadata": {},
   "outputs": [],
   "source": [
    "class AgentState(TypedDict):\n",
    "    \"\"\"State of the agent.\"\"\"\n",
    "    messages: list\n",
    "    current_query: str\n",
    "    search_results: list\n",
    "    iterations: int\n",
    "    final_answer: str\n",
    "\n",
    "def my_node(state: AgentState) -> AgentState:\n",
    "    '''Some operations'''\n",
    "    return state"
   ]
  },
  {
   "cell_type": "code",
   "execution_count": 13,
   "id": "c2f8335e",
   "metadata": {},
   "outputs": [],
   "source": [
    "class ReActState(TypedDict):\n",
    "    question: str\n",
    "    messages: List[dict]\n",
    "    search_queries: List[str]\n",
    "    search_results: List[dict]\n",
    "    thoughts: List[str]\n",
    "    actions: List[str]\n",
    "    observations: List[str]\n",
    "    iterations: int\n",
    "    max_iterations: int\n",
    "    final_answer: Optional[str]\n",
    "    confidence_score: float"
   ]
  },
  {
   "cell_type": "code",
   "execution_count": 19,
   "id": "57e7766f",
   "metadata": {},
   "outputs": [],
   "source": [
    "class ReactAgent:\n",
    "    def __init__(self, ollama_model = 'llama3.2:3b', tavily_key = tavily_key):\n",
    "        self.model = ChatOllama(model = ollama_model)\n",
    "        self.tavily_client = TavilyClient(api = tavily_key)\n",
    "    def setup_graph(self):\n",
    "        pass\n",
    "    \n"
   ]
  },
  {
   "cell_type": "code",
   "execution_count": null,
   "id": "cf92dd8d",
   "metadata": {},
   "outputs": [],
   "source": []
  }
 ],
 "metadata": {
  "kernelspec": {
   "display_name": ".venv",
   "language": "python",
   "name": "python3"
  },
  "language_info": {
   "codemirror_mode": {
    "name": "ipython",
    "version": 3
   },
   "file_extension": ".py",
   "mimetype": "text/x-python",
   "name": "python",
   "nbconvert_exporter": "python",
   "pygments_lexer": "ipython3",
   "version": "3.12.3"
  }
 },
 "nbformat": 4,
 "nbformat_minor": 5
}
